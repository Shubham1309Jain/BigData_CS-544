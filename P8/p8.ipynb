{
 "cells": [
  {
   "cell_type": "code",
   "execution_count": 114,
   "id": "8399a650-d6f8-4981-b62f-cb3b4cb5e59b",
   "metadata": {},
   "outputs": [
    {
     "data": {
      "text/plain": [
       "'PRETTY_NAME=\"Ubuntu 24.04.2 LTS\"\\nNAME=\"Ubuntu\"\\nVERSION_ID=\"24.04\"\\nVERSION=\"24.04.2 LTS (Noble Numbat)\"\\nVERSION_CODENAME=noble\\nID=ubuntu\\nID_LIKE=debian\\nHOME_URL=\"https://www.ubuntu.com/\"\\nSUPPORT_URL=\"https://help.ubuntu.com/\"\\nBUG_REPORT_URL=\"https://bugs.launchpad.net/ubuntu/\"\\nPRIVACY_POLICY_URL=\"https://www.ubuntu.com/legal/terms-and-policies/privacy-policy\"\\nUBUNTU_CODENAME=noble\\nLOGO=ubuntu-logo\\n'"
      ]
     },
     "execution_count": 114,
     "metadata": {},
     "output_type": "execute_result"
    }
   ],
   "source": [
    "#q1\n",
    "with open('/etc/os-release', 'r') as f:\n",
    "    m=f.read()\n",
    "m"
   ]
  },
  {
   "cell_type": "code",
   "execution_count": 115,
   "id": "52835cf6-6859-486c-a749-2f61fa3ae14f",
   "metadata": {},
   "outputs": [],
   "source": [
    "import subprocess"
   ]
  },
  {
   "cell_type": "code",
   "execution_count": 116,
   "id": "6c068f14-9e80-4b6e-8a96-0490c4d8d061",
   "metadata": {},
   "outputs": [
    {
     "data": {
      "text/plain": [
       "'Architecture:                         x86_64\\nCPU op-mode(s):                       32-bit, 64-bit\\nAddress sizes:                        46 bits physical, 48 bits virtual\\nByte Order:                           Little Endian\\nCPU(s):                               2\\nOn-line CPU(s) list:                  0,1\\nVendor ID:                            GenuineIntel\\nModel name:                           Intel(R) Xeon(R) CPU @ 2.20GHz\\nCPU family:                           6\\nModel:                                79\\nThread(s) per core:                   2\\nCore(s) per socket:                   1\\nSocket(s):                            1\\nStepping:                             0\\nBogoMIPS:                             4399.99\\nFlags:                                fpu vme de pse tsc msr pae mce cx8 apic sep mtrr pge mca cmov pat pse36 clflush mmx fxsr sse sse2 ss ht syscall nx pdpe1gb rdtscp lm constant_tsc rep_good nopl xtopology nonstop_tsc cpuid tsc_known_freq pni pclmulqdq ssse3 fma cx16 pcid sse4_1 sse4_2 x2apic movbe popcnt aes xsave avx f16c rdrand hypervisor lahf_lm abm 3dnowprefetch pti ssbd ibrs ibpb stibp fsgsbase tsc_adjust bmi1 hle avx2 smep bmi2 erms invpcid rtm rdseed adx smap xsaveopt arat md_clear arch_capabilities\\nHypervisor vendor:                    KVM\\nVirtualization type:                  full\\nL1d cache:                            32 KiB (1 instance)\\nL1i cache:                            32 KiB (1 instance)\\nL2 cache:                             256 KiB (1 instance)\\nL3 cache:                             55 MiB (1 instance)\\nNUMA node(s):                         1\\nNUMA node0 CPU(s):                    0,1\\nVulnerability Gather data sampling:   Not affected\\nVulnerability Itlb multihit:          Not affected\\nVulnerability L1tf:                   Mitigation; PTE Inversion\\nVulnerability Mds:                    Mitigation; Clear CPU buffers; SMT Host state unknown\\nVulnerability Meltdown:               Mitigation; PTI\\nVulnerability Mmio stale data:        Vulnerable: Clear CPU buffers attempted, no microcode; SMT Host state unknown\\nVulnerability Reg file data sampling: Not affected\\nVulnerability Retbleed:               Mitigation; IBRS\\nVulnerability Spec rstack overflow:   Not affected\\nVulnerability Spec store bypass:      Mitigation; Speculative Store Bypass disabled via prctl\\nVulnerability Spectre v1:             Mitigation; usercopy/swapgs barriers and __user pointer sanitization\\nVulnerability Spectre v2:             Mitigation; IBRS; IBPB conditional; STIBP conditional; RSB filling; PBRSB-eIBRS Not affected; BHI SW loop, KVM SW loop\\nVulnerability Srbds:                  Not affected\\nVulnerability Tsx async abort:        Mitigation; Clear CPU buffers; SMT Host state unknown\\n'"
      ]
     },
     "execution_count": 116,
     "metadata": {},
     "output_type": "execute_result"
    }
   ],
   "source": [
    "#q2\n",
    "subprocess.run(['lscpu'], capture_output=True, text=True).stdout"
   ]
  },
  {
   "cell_type": "code",
   "execution_count": 163,
   "id": "62fe6c78-beee-417e-aaf6-5b25cfe5bf98",
   "metadata": {},
   "outputs": [
    {
     "data": {
      "text/plain": [
       "['shubham_10jain/wi-schools-raw.parquet']"
      ]
     },
     "execution_count": 163,
     "metadata": {},
     "output_type": "execute_result"
    }
   ],
   "source": [
    "#q3\n",
    "from pyarrow.fs import GcsFileSystem, FileSelector\n",
    "fs = GcsFileSystem()\n",
    "selector = FileSelector('shubham_10jain', recursive=False)\n",
    "files = [f.path for f in fs.get_file_info(selector)]\n",
    "\n",
    "files\n",
    "\n"
   ]
  },
  {
   "cell_type": "code",
   "execution_count": 164,
   "id": "67747a4b-695e-4c72-ae28-6d504519c5cf",
   "metadata": {},
   "outputs": [
    {
     "data": {
      "text/plain": [
       "['shubham_10jain/wi-schools-raw.parquet']"
      ]
     },
     "execution_count": 164,
     "metadata": {},
     "output_type": "execute_result"
    }
   ],
   "source": [
    "#q3\n",
    "from pyarrow.fs import GcsFileSystem, FileSelector\n",
    "\n",
    "fs = GcsFileSystem()\n",
    "# List all files in the root of your bucket\n",
    "selector = FileSelector('shubham_10jain', recursive=False)\n",
    "files = [file_info.path for file_info in fs.get_file_info(selector)]\n",
    "files"
   ]
  },
  {
   "cell_type": "code",
   "execution_count": 165,
   "id": "60884121-e147-4aca-ab4f-01f56979c2e7",
   "metadata": {},
   "outputs": [
    {
     "data": {
      "text/plain": [
       "1746221199210000000"
      ]
     },
     "execution_count": 165,
     "metadata": {},
     "output_type": "execute_result"
    }
   ],
   "source": [
    "#q4\n",
    "file_info = fs.get_file_info('shubham_10jain/wi-schools-raw.parquet')\n",
    "file_info.mtime_ns"
   ]
  },
  {
   "cell_type": "code",
   "execution_count": 166,
   "id": "0678d736-1d66-42e0-81e1-5625cf383091",
   "metadata": {},
   "outputs": [
    {
     "name": "stdout",
     "output_type": "stream",
     "text": [
      "Uploaded wi_counties.sqlx\n"
     ]
    }
   ],
   "source": [
    "# Dataform setup - Upload SQLX files\n",
    "from google.cloud import dataform_v1beta1 as dataform\n",
    "\n",
    "client = dataform.DataformClient()\n",
    "\n",
    "PROJECT_ID = \"solar-bolt-458603-v2\"\n",
    "REPOSITORY_ID = \"Shubham_10jain\"\n",
    "WORKSPACE_ID = \"Shubham_workspace\"\n",
    "\n",
    "workspace_path = f\"projects/{PROJECT_ID}/locations/us-central1/repositories/{REPOSITORY_ID}/workspaces/{WORKSPACE_ID}\"\n",
    "\n",
    "wi_counties_sqlx = \"\"\"\n",
    "config {\n",
    "  type: \"table\",\n",
    "  name: \"wi_counties\",\n",
    "  schema: \"p8\"\n",
    "}\n",
    "\n",
    "SELECT *\n",
    "FROM \n",
    "  `bigquery-public-data.geo_us_boundaries.counties`\n",
    "WHERE \n",
    "  state_fips_code = '55'\n",
    "\"\"\"\n",
    "\n",
    "with open(\"./definitions/wi_counties.sqlx\", \"w\") as f:\n",
    "    f.write(wi_counties_sqlx)\n",
    "client.write_file(\n",
    "    request={\n",
    "        \"workspace\": workspace_path,\n",
    "        \"path\": \"definitions/wi_counties.sqlx\",\n",
    "        \"contents\": wi_counties_sqlx.encode()\n",
    "    }\n",
    ")\n",
    "print(\"Uploaded wi_counties.sqlx\")"
   ]
  },
  {
   "cell_type": "code",
   "execution_count": 167,
   "id": "cfff6745-4fe9-4e3a-9c26-ec88083bebb5",
   "metadata": {},
   "outputs": [
    {
     "data": {
      "text/plain": []
     },
     "execution_count": 167,
     "metadata": {},
     "output_type": "execute_result"
    }
   ],
   "source": [
    "# schools.sqlx\n",
    "PROJECT_ID = \"solar-bolt-458603-v2\"\n",
    "REPOSITORY_ID = \"Shubham_10jain\"\n",
    "WORKSPACE_ID = \"Shubham_workspace\"\n",
    "\n",
    "\n",
    "workspace_path = f\"projects/{PROJECT_ID}/locations/us-central1/repositories/{REPOSITORY_ID}/workspaces/{WORKSPACE_ID}\"\n",
    "\n",
    "schools_sqlx = \"\"\"\n",
    "config {\n",
    "    type: \"operations\",\n",
    "    name: \"schools\"\n",
    "    hasOutput: true\n",
    "}\n",
    " \n",
    "LOAD DATA OVERWRITE solar-bolt-458603-v2.p8.schools\n",
    "FROM FILES (\n",
    "    format = 'PARQUET',\n",
    "    uris = ['gs://shubham_10jain/wi-schools-raw.parquet']\n",
    ")\n",
    "\"\"\"\n",
    "\n",
    "with open(\"./definitions/schools.sqlx\", \"w\") as f:\n",
    "    f.write(schools_sqlx)\n",
    "\n",
    "client.write_file(\n",
    "    request=dataform.WriteFileRequest(\n",
    "        workspace=workspace_path,\n",
    "        path=\"definitions/schools.sqlx\",\n",
    "        contents=schools_sqlx.encode(\"utf-8\")\n",
    "    )\n",
    ")\n"
   ]
  },
  {
   "cell_type": "code",
   "execution_count": 168,
   "id": "878a3639-d82b-4468-814b-1f1219c1fc7f",
   "metadata": {},
   "outputs": [
    {
     "data": {
      "text/plain": []
     },
     "execution_count": 168,
     "metadata": {},
     "output_type": "execute_result"
    }
   ],
   "source": [
    "# wi_county_schools.sqlx\n",
    "\n",
    "PROJECT_ID = \"solar-bolt-458603-v2\"\n",
    "REPOSITORY_ID = \"Shubham_10jain\"\n",
    "WORKSPACE_ID = \"Shubham_workspace\"\n",
    "\n",
    "\n",
    "workspace_path = f\"projects/{PROJECT_ID}/locations/us-central1/repositories/{REPOSITORY_ID}/workspaces/{WORKSPACE_ID}\"\n",
    "\n",
    "county_schools_sqlx = \"\"\"\n",
    "config {\n",
    "    type: \"table\",\n",
    "    name: \"county_schools\"\n",
    "    schema: \"p8\"\n",
    "}\n",
    " \n",
    "SELECT\n",
    "    s.*,\n",
    "    ST_GEOGPOINT(s.longitude, s.latitude) AS location,\n",
    "    c.county_name\n",
    "FROM ${ref('schools')} s\n",
    "JOIN ${ref('wi_counties')} c\n",
    "ON ST_INTERSECTS(\n",
    "    ST_GEOGPOINT(s.longitude, s.latitude),\n",
    "    c.county_geom\n",
    ")\n",
    "\"\"\"\n",
    "with open(\"./definitions/wi_county_schools.sqlx\", \"w\") as f:\n",
    "    f.write(county_schools_sqlx)\n",
    "    \n",
    "client.write_file(\n",
    "    request=dataform.WriteFileRequest(\n",
    "        workspace=workspace_path,\n",
    "        path=\"definitions/wi_county_schools.sqlx\",\n",
    "        contents=county_schools_sqlx.encode(\"utf-8\")\n",
    "    )\n",
    ")\n"
   ]
  },
  {
   "cell_type": "code",
   "execution_count": 169,
   "id": "4260a823-eefc-4340-a60d-9c748b1c7a4c",
   "metadata": {},
   "outputs": [],
   "source": [
    "from google.cloud import dataform_v1beta1\n",
    "from google.api_core.exceptions import GoogleAPICallError\\\n",
    "\n",
    "\n",
    "PROJECT_ID = \"solar-bolt-458603-v2\"\n",
    "REPOSITORY_ID = \"Shubham_10jain\"\n",
    "WORKSPACE_ID = \"Shubham_workspace\"\n",
    "\n",
    "\n",
    "workspace_path = f\"projects/{PROJECT_ID}/locations/us-central1/repositories/{REPOSITORY_ID}/workspaces/{WORKSPACE_ID}\"\n",
    "\n",
    "compilation_result = dataform_v1beta1.types.CompilationResult(\n",
    "\n",
    "    workspace=workspace_path,\n",
    "    code_compilation_config=dataform_v1beta1.types.CodeCompilationConfig(\n",
    "        default_database=\"solar-bolt-458603-v2\",  # Your BigQuery project ID\n",
    "        default_schema=\"p8\"  # Dataset where the table will reside\n",
    "    )\n",
    ")\n",
    " \n",
    "\n",
    "response = client.create_compilation_result(\n",
    "    parent=f\"projects/{PROJECT_ID}/locations/us-central1/repositories/{REPOSITORY_ID}\",\n",
    "    compilation_result=create_compilation_result\n",
    "\n",
    ")\n",
    "\n",
    " "
   ]
  },
  {
   "cell_type": "code",
   "execution_count": 170,
   "id": "a51f3dec-e315-495f-9aae-b0d516012c05",
   "metadata": {},
   "outputs": [
    {
     "data": {
      "text/plain": [
       "72"
      ]
     },
     "execution_count": 170,
     "metadata": {},
     "output_type": "execute_result"
    }
   ],
   "source": [
    "#q5\n",
    "from google.cloud import bigquery\n",
    "\n",
    "# Initialize BigQuery client\n",
    "client = bigquery.Client()\n",
    "\n",
    "# Query to count counties in Wisconsin\n",
    "query = \"\"\"\n",
    "SELECT COUNT(*) AS county_count\n",
    "FROM `solar-bolt-458603-v2.p8.wi_counties`\n",
    "\"\"\"\n",
    "\n",
    "# Execute the query (using .query() method as required)\n",
    "result = client.query(query).to_dataframe()\n",
    "\n",
    "# Extract the count value as a Python int\n",
    "count = int(result.iloc[0]['county_count'])\n",
    "count"
   ]
  },
  {
   "cell_type": "code",
   "execution_count": 171,
   "id": "e5bdc86d-f2d4-43bb-8846-17a0a6bd1c82",
   "metadata": {},
   "outputs": [
    {
     "data": {
      "text/plain": [
       "2116"
      ]
     },
     "execution_count": 171,
     "metadata": {},
     "output_type": "execute_result"
    }
   ],
   "source": [
    "#q6\n",
    "query = \"\"\"\n",
    "SELECT COUNT(*) as school_count\n",
    "FROM `solar-bolt-458603-v2.p8.wi_county_schools`\n",
    "WHERE agency_type = 'Public school'\n",
    "\"\"\"\n",
    "result = bq.query(query).to_dataframe()\n",
    "count=int(result.iloc[0]['school_count'])\n",
    "count"
   ]
  },
  {
   "cell_type": "code",
   "execution_count": 75,
   "id": "d207e5e0-4ea3-40b5-80c9-2cc4afd1e1ab",
   "metadata": {},
   "outputs": [
    {
     "data": {
      "text/plain": [
       "{'first_view': [],\n",
       " 'second_view': ['first_view'],\n",
       " 'wi_counties': [],\n",
       " 'wi_county_schools': ['schools', 'wi_counties']}"
      ]
     },
     "execution_count": 75,
     "metadata": {},
     "output_type": "execute_result"
    }
   ],
   "source": [
    "#q7\n",
    "from google.cloud import dataform_v1beta1\n",
    "\n",
    "client = dataform_v1beta1.DataformClient()\n",
    "compilation_name = response.name\n",
    "\n",
    "actions_response = client.query_compilation_result_actions(\n",
    "    request={\"name\": compilation_name}\n",
    ")\n",
    "\n",
    "dependencies = {}\n",
    "for action in actions_response:\n",
    "    if action.target and action.relation:\n",
    "        target_name = action.target.name.split('/')[-1]\n",
    "        deps = [dep.name.split('/')[-1] for dep in action.relation.dependency_targets]\n",
    "        dependencies[target_name] = deps\n",
    "\n",
    "dependencies"
   ]
  },
  {
   "cell_type": "code",
   "execution_count": 78,
   "id": "4174dc03-bfee-4a51-b0bd-59f7bb8432d6",
   "metadata": {},
   "outputs": [
    {
     "data": {
      "text/plain": [
       "{'Milwaukee': 420,\n",
       " 'Dane': 217,\n",
       " 'Waukesha': 177,\n",
       " 'Brown': 123,\n",
       " 'Outagamie': 96,\n",
       " 'Rock': 72,\n",
       " 'Marathon': 72,\n",
       " 'Racine': 68,\n",
       " 'Winnebago': 65,\n",
       " 'Sheboygan': 63,\n",
       " 'La Crosse': 59,\n",
       " 'Kenosha': 56,\n",
       " 'Washington': 56,\n",
       " 'Walworth': 56,\n",
       " 'Fond du Lac': 55,\n",
       " 'Eau Claire': 54,\n",
       " 'Jefferson': 52,\n",
       " 'Dodge': 51,\n",
       " 'Wood': 47,\n",
       " 'Manitowoc': 44,\n",
       " 'Sauk': 42,\n",
       " 'Columbia': 41,\n",
       " 'Barron': 40,\n",
       " 'Grant': 39,\n",
       " 'Portage': 38,\n",
       " 'Ozaukee': 38,\n",
       " 'Clark': 38,\n",
       " 'Waupaca': 36,\n",
       " 'St. Croix': 35,\n",
       " 'Chippewa': 35,\n",
       " 'Calumet': 30,\n",
       " 'Shawano': 29,\n",
       " 'Pierce': 29,\n",
       " 'Marinette': 29,\n",
       " 'Vernon': 29,\n",
       " 'Polk': 28,\n",
       " 'Monroe': 28,\n",
       " 'Trempealeau': 27,\n",
       " 'Juneau': 26,\n",
       " 'Green': 23,\n",
       " 'Dunn': 22,\n",
       " 'Oconto': 20,\n",
       " 'Lafayette': 18,\n",
       " 'Door': 18,\n",
       " 'Douglas': 18,\n",
       " 'Crawford': 17,\n",
       " 'Oneida': 17,\n",
       " 'Iowa': 16,\n",
       " 'Lincoln': 16,\n",
       " 'Washburn': 16,\n",
       " 'Green Lake': 15,\n",
       " 'Kewaunee': 15,\n",
       " 'Richland': 14,\n",
       " 'Langlade': 13,\n",
       " 'Taylor': 13,\n",
       " 'Vilas': 13,\n",
       " 'Sawyer': 13,\n",
       " 'Waushara': 13,\n",
       " 'Ashland': 12,\n",
       " 'Bayfield': 12,\n",
       " 'Buffalo': 11,\n",
       " 'Rusk': 11,\n",
       " 'Marquette': 10,\n",
       " 'Jackson': 10,\n",
       " 'Price': 9,\n",
       " 'Burnett': 9,\n",
       " 'Pepin': 7,\n",
       " 'Forest': 7,\n",
       " 'Menominee': 4,\n",
       " 'Adams': 3,\n",
       " 'Florence': 3,\n",
       " 'Iron': 3}"
      ]
     },
     "execution_count": 78,
     "metadata": {},
     "output_type": "execute_result"
    }
   ],
   "source": [
    "#q8\n",
    "from google.cloud import bigquery\n",
    "\n",
    "client = bigquery.Client()\n",
    "\n",
    "query = \"\"\"\n",
    "SELECT \n",
    "  county_name,\n",
    "  COUNT(*) as school_count\n",
    "FROM \n",
    "  `solar-bolt-458603-v2.p8.wi_county_schools`\n",
    "GROUP BY \n",
    "  county_name\n",
    "ORDER BY \n",
    "  school_count DESC\n",
    "\"\"\"\n",
    "\n",
    "\n",
    "result = client.query(query).to_dataframe()\n",
    "\n",
    "answer_q8 = {county: int(count) for county, count in zip(result['county_name'], result['school_count'])}\n",
    "answer_q8"
   ]
  },
  {
   "cell_type": "code",
   "execution_count": 182,
   "id": "b105a1d6-901b-4a68-aafa-0324c8bf2697",
   "metadata": {},
   "outputs": [
    {
     "data": {
      "text/plain": [
       "104857"
      ]
     },
     "execution_count": 182,
     "metadata": {},
     "output_type": "execute_result"
    }
   ],
   "source": [
    "#q9\n",
    " \n",
    "config = bigquery.QueryJobConfig(use_query_cache=False)\n",
    "\n",
    "q = bq.query(query, job_config=config)\n",
    " \n",
    "q.cache_hit\n",
    " \n",
    "q.total_bytes_processed / 1024**2\n",
    "\n",
    "q.total_bytes_billed / 1024**2\n",
    " \n",
    "TB = 1024 ** 4\n",
    "\n",
    "TB // q.total_bytes_billed\n",
    "\n"
   ]
  },
  {
   "cell_type": "code",
   "execution_count": 183,
   "id": "56a870fa-8e03-4eed-ae8f-1eb1ba518a06",
   "metadata": {},
   "outputs": [
    {
     "data": {
      "text/plain": [
       "{'Kromrey Middle': 'Middleton High',\n",
       " 'Prairie View Middle': 'Sun Prairie West High',\n",
       " 'Belleville Middle': 'Belleville High',\n",
       " 'Mount Horeb Middle': 'Mount Horeb High',\n",
       " 'Glacier Creek Middle': 'Middleton High',\n",
       " 'Marshall Middle': 'Marshall High',\n",
       " 'James Wright Middle': 'West High',\n",
       " 'River Bluff Middle': 'Stoughton High',\n",
       " 'Black Hawk Middle': 'Shabazz-City High',\n",
       " 'Indian Mound Middle': 'McFarland High',\n",
       " 'Wisconsin Heights Middle': 'Wisconsin Heights High',\n",
       " 'Waunakee Middle': 'Waunakee High',\n",
       " 'Toki Middle': 'Vel Phillips Memorial High School',\n",
       " 'De Forest Middle': 'De Forest High',\n",
       " 'Central Heights Middle': 'Prairie Phoenix Academy',\n",
       " 'Ezekiel Gillespie Middle School': 'Vel Phillips Memorial High School',\n",
       " 'Oregon Middle': 'Oregon High',\n",
       " 'Whitehorse Middle': 'Monona Grove High',\n",
       " 'Cherokee Heights Middle': 'Capital High',\n",
       " 'Glacial Drumlin School': 'LaFollette High',\n",
       " 'Deerfield Middle': 'Deerfield High',\n",
       " \"O'Keeffe Middle\": 'Innovative High',\n",
       " 'Patrick Marsh Middle': 'Prairie Phoenix Academy',\n",
       " 'Badger Rock Middle': 'West High',\n",
       " 'Nikolay Middle': 'Koshkonong Trails School',\n",
       " 'Spring Harbor Middle': 'Capital High',\n",
       " 'Hamilton Middle': 'Capital High',\n",
       " 'Savanna Oaks Middle': 'Capital High',\n",
       " 'Sennett Middle': 'LaFollette High',\n",
       " 'Innovative and Alternative Middle': 'Innovative High',\n",
       " 'Badger Ridge Middle': 'Verona Area High',\n",
       " 'Sherman Middle': 'Shabazz-City High'}"
      ]
     },
     "execution_count": 183,
     "metadata": {},
     "output_type": "execute_result"
    }
   ],
   "source": [
    "#q10\n",
    "from google.cloud import bigquery\n",
    "\n",
    "# Initialize BigQuery client\n",
    "client = bigquery.Client()\n",
    "\n",
    "# Define the query to find closest public high schools for each public middle school in Dane County\n",
    "query = \"\"\"\n",
    "WITH middle_schools AS (\n",
    "    SELECT \n",
    "        school_name,\n",
    "        location\n",
    "    FROM `solar-bolt-458603-v2.p8.wi_county_schools`\n",
    "    WHERE \n",
    "        county_name = 'Dane' AND\n",
    "        agency_type = 'Public school' AND\n",
    "        school_type = 'Middle School'\n",
    "),\n",
    "\n",
    "high_schools AS (\n",
    "    SELECT \n",
    "        school_name,\n",
    "        location\n",
    "    FROM `solar-bolt-458603-v2.p8.wi_county_schools`\n",
    "    WHERE \n",
    "        county_name = 'Dane' AND\n",
    "        agency_type = 'Public school' AND\n",
    "        school_type = 'High School'\n",
    ")\n",
    "\n",
    "SELECT\n",
    "    ms.school_name AS middle_school,\n",
    "    MIN_BY(hs.school_name, ST_DISTANCE(ms.location, hs.location)) AS closest_high_school\n",
    "FROM middle_schools ms\n",
    "CROSS JOIN high_schools hs\n",
    "GROUP BY middle_school\n",
    "\"\"\"\n",
    "\n",
    "# Replace {YOUR_PROJECT_ID} with your actual project ID\n",
    "query = query.format(YOUR_PROJECT_ID=client.project)\n",
    "\n",
    "# Execute the query and convert to dictionary\n",
    "query_job = client.query(query)\n",
    "results = query_job.result()\n",
    "\n",
    "# Convert to dictionary format\n",
    "closest_high_schools = {row.middle_school: row.closest_high_school for row in results}\n",
    "\n",
    "closest_high_schools"
   ]
  },
  {
   "cell_type": "code",
   "execution_count": null,
   "id": "6645c862-8c39-4b7f-9a29-bed9ee2597e6",
   "metadata": {},
   "outputs": [],
   "source": []
  }
 ],
 "metadata": {
  "kernelspec": {
   "display_name": "Python 3 (ipykernel)",
   "language": "python",
   "name": "python3"
  },
  "language_info": {
   "codemirror_mode": {
    "name": "ipython",
    "version": 3
   },
   "file_extension": ".py",
   "mimetype": "text/x-python",
   "name": "python",
   "nbconvert_exporter": "python",
   "pygments_lexer": "ipython3",
   "version": "3.12.3"
  }
 },
 "nbformat": 4,
 "nbformat_minor": 5
}
