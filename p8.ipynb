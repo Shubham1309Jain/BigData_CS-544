{
 "cells": [
  {
   "cell_type": "code",
   "execution_count": 1,
   "id": "82ed1960-0823-4ac2-af3b-9cde95dd7ede",
   "metadata": {},
   "outputs": [],
   "source": [
    "from google.cloud import bigquery"
   ]
  },
  {
   "cell_type": "code",
   "execution_count": 2,
   "id": "d909bc93-7f93-4a03-873a-4913b4204935",
   "metadata": {},
   "outputs": [],
   "source": [
    "bq = bigquery.Client()"
   ]
  },
  {
   "cell_type": "code",
   "execution_count": 17,
   "id": "8399a650-d6f8-4981-b62f-cb3b4cb5e59b",
   "metadata": {},
   "outputs": [
    {
     "data": {
      "text/plain": [
       "'PRETTY_NAME=\"Ubuntu 24.04.2 LTS\"\\nNAME=\"Ubuntu\"\\nVERSION_ID=\"24.04\"\\nVERSION=\"24.04.2 LTS (Noble Numbat)\"\\nVERSION_CODENAME=noble\\nID=ubuntu\\nID_LIKE=debian\\nHOME_URL=\"https://www.ubuntu.com/\"\\nSUPPORT_URL=\"https://help.ubuntu.com/\"\\nBUG_REPORT_URL=\"https://bugs.launchpad.net/ubuntu/\"\\nPRIVACY_POLICY_URL=\"https://www.ubuntu.com/legal/terms-and-policies/privacy-policy\"\\nUBUNTU_CODENAME=noble\\nLOGO=ubuntu-logo\\n'"
      ]
     },
     "execution_count": 17,
     "metadata": {},
     "output_type": "execute_result"
    }
   ],
   "source": [
    "#q1\n",
    "with open('/etc/os-release', 'r') as f:\n",
    "    m=f.read()\n",
    "m"
   ]
  },
  {
   "cell_type": "code",
   "execution_count": 18,
   "id": "52835cf6-6859-486c-a749-2f61fa3ae14f",
   "metadata": {},
   "outputs": [],
   "source": [
    "import subprocess"
   ]
  },
  {
   "cell_type": "code",
   "execution_count": 19,
   "id": "6c068f14-9e80-4b6e-8a96-0490c4d8d061",
   "metadata": {},
   "outputs": [
    {
     "data": {
      "text/plain": [
       "'Architecture:                         x86_64\\nCPU op-mode(s):                       32-bit, 64-bit\\nAddress sizes:                        46 bits physical, 48 bits virtual\\nByte Order:                           Little Endian\\nCPU(s):                               2\\nOn-line CPU(s) list:                  0,1\\nVendor ID:                            GenuineIntel\\nModel name:                           Intel(R) Xeon(R) CPU @ 2.20GHz\\nCPU family:                           6\\nModel:                                79\\nThread(s) per core:                   2\\nCore(s) per socket:                   1\\nSocket(s):                            1\\nStepping:                             0\\nBogoMIPS:                             4399.99\\nFlags:                                fpu vme de pse tsc msr pae mce cx8 apic sep mtrr pge mca cmov pat pse36 clflush mmx fxsr sse sse2 ss ht syscall nx pdpe1gb rdtscp lm constant_tsc rep_good nopl xtopology nonstop_tsc cpuid tsc_known_freq pni pclmulqdq ssse3 fma cx16 pcid sse4_1 sse4_2 x2apic movbe popcnt aes xsave avx f16c rdrand hypervisor lahf_lm abm 3dnowprefetch pti ssbd ibrs ibpb stibp fsgsbase tsc_adjust bmi1 hle avx2 smep bmi2 erms invpcid rtm rdseed adx smap xsaveopt arat md_clear arch_capabilities\\nHypervisor vendor:                    KVM\\nVirtualization type:                  full\\nL1d cache:                            32 KiB (1 instance)\\nL1i cache:                            32 KiB (1 instance)\\nL2 cache:                             256 KiB (1 instance)\\nL3 cache:                             55 MiB (1 instance)\\nNUMA node(s):                         1\\nNUMA node0 CPU(s):                    0,1\\nVulnerability Gather data sampling:   Not affected\\nVulnerability Itlb multihit:          Not affected\\nVulnerability L1tf:                   Mitigation; PTE Inversion\\nVulnerability Mds:                    Mitigation; Clear CPU buffers; SMT Host state unknown\\nVulnerability Meltdown:               Mitigation; PTI\\nVulnerability Mmio stale data:        Vulnerable: Clear CPU buffers attempted, no microcode; SMT Host state unknown\\nVulnerability Reg file data sampling: Not affected\\nVulnerability Retbleed:               Mitigation; IBRS\\nVulnerability Spec rstack overflow:   Not affected\\nVulnerability Spec store bypass:      Mitigation; Speculative Store Bypass disabled via prctl\\nVulnerability Spectre v1:             Mitigation; usercopy/swapgs barriers and __user pointer sanitization\\nVulnerability Spectre v2:             Mitigation; IBRS; IBPB conditional; STIBP conditional; RSB filling; PBRSB-eIBRS Not affected; BHI SW loop, KVM SW loop\\nVulnerability Srbds:                  Not affected\\nVulnerability Tsx async abort:        Mitigation; Clear CPU buffers; SMT Host state unknown\\n'"
      ]
     },
     "execution_count": 19,
     "metadata": {},
     "output_type": "execute_result"
    }
   ],
   "source": [
    "#q2\n",
    "subprocess.run(['lscpu'], capture_output=True, text=True).stdout"
   ]
  },
  {
   "cell_type": "code",
   "execution_count": 28,
   "id": "541055a1-6b2b-42c9-9946-8c9dd0824a5b",
   "metadata": {},
   "outputs": [
    {
     "name": "stdout",
     "output_type": "stream",
     "text": [
      "Requirement already satisfied: pyarrow in /home/shubham.aryanjain/venv/lib/python3.12/site-packages (20.0.0)\n",
      "Requirement already satisfied: google-cloud-storage in /home/shubham.aryanjain/venv/lib/python3.12/site-packages (3.1.0)\n",
      "Requirement already satisfied: google-auth<3.0dev,>=2.26.1 in /home/shubham.aryanjain/venv/lib/python3.12/site-packages (from google-cloud-storage) (2.39.0)\n",
      "Requirement already satisfied: google-api-core<3.0.0dev,>=2.15.0 in /home/shubham.aryanjain/venv/lib/python3.12/site-packages (from google-cloud-storage) (2.24.2)\n",
      "Requirement already satisfied: google-cloud-core<3.0dev,>=2.4.2 in /home/shubham.aryanjain/venv/lib/python3.12/site-packages (from google-cloud-storage) (2.4.3)\n",
      "Requirement already satisfied: google-resumable-media>=2.7.2 in /home/shubham.aryanjain/venv/lib/python3.12/site-packages (from google-cloud-storage) (2.7.2)\n",
      "Requirement already satisfied: requests<3.0.0dev,>=2.18.0 in /home/shubham.aryanjain/venv/lib/python3.12/site-packages (from google-cloud-storage) (2.32.3)\n",
      "Requirement already satisfied: google-crc32c<2.0dev,>=1.0 in /home/shubham.aryanjain/venv/lib/python3.12/site-packages (from google-cloud-storage) (1.7.1)\n",
      "Requirement already satisfied: googleapis-common-protos<2.0.0,>=1.56.2 in /home/shubham.aryanjain/venv/lib/python3.12/site-packages (from google-api-core<3.0.0dev,>=2.15.0->google-cloud-storage) (1.70.0)\n",
      "Requirement already satisfied: protobuf!=3.20.0,!=3.20.1,!=4.21.0,!=4.21.1,!=4.21.2,!=4.21.3,!=4.21.4,!=4.21.5,<7.0.0,>=3.19.5 in /home/shubham.aryanjain/venv/lib/python3.12/site-packages (from google-api-core<3.0.0dev,>=2.15.0->google-cloud-storage) (5.29.4)\n",
      "Requirement already satisfied: proto-plus<2.0.0,>=1.22.3 in /home/shubham.aryanjain/venv/lib/python3.12/site-packages (from google-api-core<3.0.0dev,>=2.15.0->google-cloud-storage) (1.26.1)\n",
      "Requirement already satisfied: cachetools<6.0,>=2.0.0 in /home/shubham.aryanjain/venv/lib/python3.12/site-packages (from google-auth<3.0dev,>=2.26.1->google-cloud-storage) (5.5.2)\n",
      "Requirement already satisfied: pyasn1-modules>=0.2.1 in /home/shubham.aryanjain/venv/lib/python3.12/site-packages (from google-auth<3.0dev,>=2.26.1->google-cloud-storage) (0.4.2)\n",
      "Requirement already satisfied: rsa<5,>=3.1.4 in /home/shubham.aryanjain/venv/lib/python3.12/site-packages (from google-auth<3.0dev,>=2.26.1->google-cloud-storage) (4.9.1)\n",
      "Requirement already satisfied: charset-normalizer<4,>=2 in /home/shubham.aryanjain/venv/lib/python3.12/site-packages (from requests<3.0.0dev,>=2.18.0->google-cloud-storage) (3.4.1)\n",
      "Requirement already satisfied: idna<4,>=2.5 in /home/shubham.aryanjain/venv/lib/python3.12/site-packages (from requests<3.0.0dev,>=2.18.0->google-cloud-storage) (3.10)\n",
      "Requirement already satisfied: urllib3<3,>=1.21.1 in /home/shubham.aryanjain/venv/lib/python3.12/site-packages (from requests<3.0.0dev,>=2.18.0->google-cloud-storage) (2.4.0)\n",
      "Requirement already satisfied: certifi>=2017.4.17 in /home/shubham.aryanjain/venv/lib/python3.12/site-packages (from requests<3.0.0dev,>=2.18.0->google-cloud-storage) (2025.4.26)\n",
      "Requirement already satisfied: pyasn1<0.7.0,>=0.6.1 in /home/shubham.aryanjain/venv/lib/python3.12/site-packages (from pyasn1-modules>=0.2.1->google-auth<3.0dev,>=2.26.1->google-cloud-storage) (0.6.1)\n"
     ]
    }
   ],
   "source": [
    "!pip3 install pyarrow google-cloud-storage"
   ]
  },
  {
   "cell_type": "code",
   "execution_count": 38,
   "id": "62fe6c78-beee-417e-aaf6-5b25cfe5bf98",
   "metadata": {},
   "outputs": [
    {
     "data": {
      "text/plain": [
       "[]"
      ]
     },
     "execution_count": 38,
     "metadata": {},
     "output_type": "execute_result"
    }
   ],
   "source": [
    "#q3\n",
    "from pyarrow.fs import GcsFileSystem, FileSelector\n",
    "fs = GcsFileSystem()\n",
    "# List files in the bucket root\n",
    "selector = FileSelector('shubham_10jain', recursive=False)\n",
    "files = [f.path for f in fs.get_file_info(selector)]\n",
    "\n",
    "# Extract just the file names (without the bucket prefix)\n",
    "file_names = [f.split('/')[-1] for f in files if f != 'shubham_10jain/']\n",
    "file_names"
   ]
  },
  {
   "cell_type": "code",
   "execution_count": 46,
   "id": "67747a4b-695e-4c72-ae28-6d504519c5cf",
   "metadata": {},
   "outputs": [
    {
     "data": {
      "text/plain": [
       "['shubham_10jain/wi-schools-raw.parquet.txt']"
      ]
     },
     "execution_count": 46,
     "metadata": {},
     "output_type": "execute_result"
    }
   ],
   "source": [
    "#q3\n",
    "from pyarrow.fs import GcsFileSystem, FileSelector\n",
    "\n",
    "fs = GcsFileSystem()\n",
    "# List all files in the root of your bucket\n",
    "selector = FileSelector('shubham_10jain', recursive=False)\n",
    "files = [file_info.path for file_info in fs.get_file_info(selector)]\n",
    "files"
   ]
  },
  {
   "cell_type": "code",
   "execution_count": 47,
   "id": "60884121-e147-4aca-ab4f-01f56979c2e7",
   "metadata": {},
   "outputs": [
    {
     "data": {
      "text/plain": [
       "1746163514492000000"
      ]
     },
     "execution_count": 47,
     "metadata": {},
     "output_type": "execute_result"
    }
   ],
   "source": [
    "#q4\n",
    "file_info = fs.get_file_info('shubham_10jain/wi-schools-raw.parquet.txt')\n",
    "file_info.mtime_ns"
   ]
  },
  {
   "cell_type": "code",
   "execution_count": null,
   "id": "0678d736-1d66-42e0-81e1-5625cf383091",
   "metadata": {},
   "outputs": [],
   "source": []
  }
 ],
 "metadata": {
  "kernelspec": {
   "display_name": "Python 3 (ipykernel)",
   "language": "python",
   "name": "python3"
  },
  "language_info": {
   "codemirror_mode": {
    "name": "ipython",
    "version": 3
   },
   "file_extension": ".py",
   "mimetype": "text/x-python",
   "name": "python",
   "nbconvert_exporter": "python",
   "pygments_lexer": "ipython3",
   "version": "3.12.3"
  }
 },
 "nbformat": 4,
 "nbformat_minor": 5
}
